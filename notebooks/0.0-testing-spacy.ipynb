{
 "cells": [
  {
   "cell_type": "code",
   "execution_count": 12,
   "metadata": {},
   "outputs": [],
   "source": [
    "import spacy\n",
    "from spacy import displacy\n",
    "from collections import Counter\n",
    "import pandas as pd"
   ]
  },
  {
   "cell_type": "code",
   "execution_count": 13,
   "metadata": {},
   "outputs": [],
   "source": [
    "# import es_core_news_md\n",
    "import es_core_news_lg\n",
    "nlp = es_core_news_md.load()"
   ]
  },
  {
   "cell_type": "code",
   "execution_count": 14,
   "metadata": {},
   "outputs": [],
   "source": [
    "text = \"Agro Acción Alemana (Deutsche Welthungerhilfe), originaria de Alemania, inscrito el l 4/07/1999, bajo el Número Perpetuo 1377. Situación Legal: En incumplimiento, no reportaron estados financieros del período 2016-2021, Junta Directiva del país y Poder de Representante Legal desactualizados desde el año 2012.\""
   ]
  },
  {
   "cell_type": "code",
   "execution_count": 15,
   "metadata": {},
   "outputs": [
    {
     "data": {
      "text/plain": [
       "(Agro Acción Alemana,\n",
       " Deutsche Welthungerhilfe,\n",
       " Alemania,\n",
       " Número Perpetuo,\n",
       " Junta Directiva,\n",
       " Poder de Representante Legal)"
      ]
     },
     "execution_count": 15,
     "metadata": {},
     "output_type": "execute_result"
    }
   ],
   "source": [
    "document = nlp(text)\n",
    "document.ents"
   ]
  },
  {
   "cell_type": "code",
   "execution_count": 16,
   "metadata": {},
   "outputs": [
    {
     "name": "stdout",
     "output_type": "stream",
     "text": [
      "Agro Acción Alemana ORG\n",
      "Deutsche Welthungerhilfe ORG\n",
      "Alemania LOC\n",
      "Número Perpetuo MISC\n",
      "Junta Directiva ORG\n",
      "Poder de Representante Legal LOC\n"
     ]
    }
   ],
   "source": [
    "for named_entity in document.ents:\n",
    "    print(named_entity, named_entity.label_)"
   ]
  },
  {
   "cell_type": "code",
   "execution_count": 17,
   "metadata": {},
   "outputs": [
    {
     "name": "stdout",
     "output_type": "stream",
     "text": [
      "Agro Acción Alemana\n",
      "Deutsche Welthungerhilfe\n",
      "Junta Directiva\n"
     ]
    }
   ],
   "source": [
    "for named_entity in document.ents:\n",
    "    if named_entity.label_ == \"ORG\":\n",
    "        print(named_entity)"
   ]
  },
  {
   "cell_type": "code",
   "execution_count": 18,
   "metadata": {},
   "outputs": [
    {
     "name": "stdout",
     "output_type": "stream",
     "text": [
      "Alemania\n",
      "Poder de Representante Legal\n"
     ]
    }
   ],
   "source": [
    "for named_entity in document.ents:\n",
    "    if named_entity.label_ == \"LOC\":\n",
    "        print(named_entity)"
   ]
  }
 ],
 "metadata": {
  "kernelspec": {
   "display_name": "Python 3.8.10 ('ner_spanish-HXC9jEQ8')",
   "language": "python",
   "name": "python3"
  },
  "language_info": {
   "codemirror_mode": {
    "name": "ipython",
    "version": 3
   },
   "file_extension": ".py",
   "mimetype": "text/x-python",
   "name": "python",
   "nbconvert_exporter": "python",
   "pygments_lexer": "ipython3",
   "version": "3.8.10"
  },
  "orig_nbformat": 4,
  "vscode": {
   "interpreter": {
    "hash": "6f6717b5260f53d6465a448f9ac2415d005f645ecb7a91878fb16358486433d9"
   }
  }
 },
 "nbformat": 4,
 "nbformat_minor": 2
}
