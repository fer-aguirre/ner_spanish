{
 "cells": [
  {
   "cell_type": "code",
   "execution_count": 5,
   "metadata": {},
   "outputs": [],
   "source": [
    "from transformers import pipeline, AutoTokenizer, AutoModelForTokenClassification\n",
    "\n",
    "tokenizer = AutoTokenizer.from_pretrained(\"MMG/xlm-roberta-large-ner-spanish\")\n",
    "\n",
    "model = AutoModelForTokenClassification.from_pretrained(\"MMG/xlm-roberta-large-ner-spanish\")"
   ]
  },
  {
   "cell_type": "code",
   "execution_count": 6,
   "metadata": {},
   "outputs": [],
   "source": [
    "text = \"Agro Acción Alemana (Deutsche Welthungerhilfe), originaria de Alemania, inscrito el l 4/07/1999, bajo el Número Perpetuo 1377. Situación Legal: En incumplimiento, no reportaron estados financieros del período 2016-2021, Junta Directiva del país y Poder de Representante Legal desactualizados desde el año 2012.\""
   ]
  },
  {
   "cell_type": "code",
   "execution_count": 7,
   "metadata": {},
   "outputs": [
    {
     "data": {
      "text/plain": [
       "[{'entity': 'B-ORG',\n",
       "  'score': 0.99518025,\n",
       "  'index': 1,\n",
       "  'word': '▁Agro',\n",
       "  'start': 0,\n",
       "  'end': 4},\n",
       " {'entity': 'I-ORG',\n",
       "  'score': 0.9970005,\n",
       "  'index': 2,\n",
       "  'word': '▁A',\n",
       "  'start': 5,\n",
       "  'end': 6},\n",
       " {'entity': 'I-ORG',\n",
       "  'score': 0.99684995,\n",
       "  'index': 3,\n",
       "  'word': 'cción',\n",
       "  'start': 6,\n",
       "  'end': 11},\n",
       " {'entity': 'I-ORG',\n",
       "  'score': 0.9984675,\n",
       "  'index': 4,\n",
       "  'word': '▁Ale',\n",
       "  'start': 12,\n",
       "  'end': 15},\n",
       " {'entity': 'I-ORG',\n",
       "  'score': 0.99683833,\n",
       "  'index': 5,\n",
       "  'word': 'mana',\n",
       "  'start': 15,\n",
       "  'end': 19},\n",
       " {'entity': 'B-ORG',\n",
       "  'score': 0.9915153,\n",
       "  'index': 7,\n",
       "  'word': 'De',\n",
       "  'start': 21,\n",
       "  'end': 23},\n",
       " {'entity': 'I-ORG',\n",
       "  'score': 0.96028644,\n",
       "  'index': 8,\n",
       "  'word': 'ut',\n",
       "  'start': 23,\n",
       "  'end': 25},\n",
       " {'entity': 'I-ORG',\n",
       "  'score': 0.9527314,\n",
       "  'index': 9,\n",
       "  'word': 'sche',\n",
       "  'start': 25,\n",
       "  'end': 29},\n",
       " {'entity': 'I-ORG',\n",
       "  'score': 0.9979393,\n",
       "  'index': 10,\n",
       "  'word': '▁Welt',\n",
       "  'start': 30,\n",
       "  'end': 34},\n",
       " {'entity': 'I-ORG',\n",
       "  'score': 0.99757546,\n",
       "  'index': 11,\n",
       "  'word': 'hung',\n",
       "  'start': 34,\n",
       "  'end': 38},\n",
       " {'entity': 'I-ORG',\n",
       "  'score': 0.9963922,\n",
       "  'index': 12,\n",
       "  'word': 'er',\n",
       "  'start': 38,\n",
       "  'end': 40},\n",
       " {'entity': 'I-ORG',\n",
       "  'score': 0.99728847,\n",
       "  'index': 13,\n",
       "  'word': 'hilfe',\n",
       "  'start': 40,\n",
       "  'end': 45},\n",
       " {'entity': 'B-LOC',\n",
       "  'score': 0.9957598,\n",
       "  'index': 18,\n",
       "  'word': '▁Alemania',\n",
       "  'start': 62,\n",
       "  'end': 70},\n",
       " {'entity': 'B-MISC',\n",
       "  'score': 0.9904912,\n",
       "  'index': 30,\n",
       "  'word': '▁Número',\n",
       "  'start': 105,\n",
       "  'end': 111},\n",
       " {'entity': 'I-MISC',\n",
       "  'score': 0.97165775,\n",
       "  'index': 31,\n",
       "  'word': '▁Per',\n",
       "  'start': 112,\n",
       "  'end': 115},\n",
       " {'entity': 'I-MISC',\n",
       "  'score': 0.9780326,\n",
       "  'index': 32,\n",
       "  'word': 'pe',\n",
       "  'start': 115,\n",
       "  'end': 117},\n",
       " {'entity': 'I-MISC',\n",
       "  'score': 0.95326704,\n",
       "  'index': 33,\n",
       "  'word': 'tuo',\n",
       "  'start': 117,\n",
       "  'end': 120},\n",
       " {'entity': 'I-MISC',\n",
       "  'score': 0.89186066,\n",
       "  'index': 34,\n",
       "  'word': '▁13',\n",
       "  'start': 121,\n",
       "  'end': 123},\n",
       " {'entity': 'I-MISC',\n",
       "  'score': 0.81289023,\n",
       "  'index': 35,\n",
       "  'word': '77',\n",
       "  'start': 123,\n",
       "  'end': 125},\n",
       " {'entity': 'B-ORG',\n",
       "  'score': 0.55740994,\n",
       "  'index': 58,\n",
       "  'word': '▁Junta',\n",
       "  'start': 220,\n",
       "  'end': 225},\n",
       " {'entity': 'I-MISC',\n",
       "  'score': 0.44563958,\n",
       "  'index': 59,\n",
       "  'word': '▁Directiva',\n",
       "  'start': 226,\n",
       "  'end': 235},\n",
       " {'entity': 'B-MISC',\n",
       "  'score': 0.98562384,\n",
       "  'index': 63,\n",
       "  'word': '▁Poder',\n",
       "  'start': 247,\n",
       "  'end': 252},\n",
       " {'entity': 'I-MISC',\n",
       "  'score': 0.9726136,\n",
       "  'index': 64,\n",
       "  'word': '▁de',\n",
       "  'start': 253,\n",
       "  'end': 255},\n",
       " {'entity': 'I-MISC',\n",
       "  'score': 0.9023615,\n",
       "  'index': 65,\n",
       "  'word': '▁Representa',\n",
       "  'start': 256,\n",
       "  'end': 266},\n",
       " {'entity': 'I-MISC',\n",
       "  'score': 0.91553944,\n",
       "  'index': 66,\n",
       "  'word': 'nte',\n",
       "  'start': 266,\n",
       "  'end': 269},\n",
       " {'entity': 'I-MISC',\n",
       "  'score': 0.95186746,\n",
       "  'index': 67,\n",
       "  'word': '▁Legal',\n",
       "  'start': 270,\n",
       "  'end': 275}]"
      ]
     },
     "execution_count": 7,
     "metadata": {},
     "output_type": "execute_result"
    }
   ],
   "source": [
    "classifier = pipeline(\"ner\", model=model, tokenizer=tokenizer)\n",
    "answer = classifier(text)\n",
    "answer"
   ]
  },
  {
   "cell_type": "code",
   "execution_count": 11,
   "metadata": {},
   "outputs": [
    {
     "data": {
      "text/plain": [
       "{'entity': 'B-ORG',\n",
       " 'score': 0.99518025,\n",
       " 'index': 1,\n",
       " 'word': '▁Agro',\n",
       " 'start': 0,\n",
       " 'end': 4}"
      ]
     },
     "execution_count": 11,
     "metadata": {},
     "output_type": "execute_result"
    }
   ],
   "source": [
    "answer[0]"
   ]
  },
  {
   "cell_type": "code",
   "execution_count": 20,
   "metadata": {},
   "outputs": [
    {
     "data": {
      "text/plain": [
       "['▁A', 'cción', '▁Ale', 'mana', 'ut', 'sche', '▁Welt', 'hung', 'er', 'hilfe']"
      ]
     },
     "execution_count": 20,
     "metadata": {},
     "output_type": "execute_result"
    }
   ],
   "source": [
    "[token.get('word') for token in answer if token.get('entity') == 'I-ORG']"
   ]
  },
  {
   "cell_type": "code",
   "execution_count": 23,
   "metadata": {},
   "outputs": [
    {
     "data": {
      "text/plain": [
       "['▁Alemania']"
      ]
     },
     "execution_count": 23,
     "metadata": {},
     "output_type": "execute_result"
    }
   ],
   "source": [
    "[token.get('word') for token in answer if token.get('entity') == 'B-LOC']"
   ]
  },
  {
   "attachments": {},
   "cell_type": "markdown",
   "metadata": {},
   "source": [
    "[Documentation for 'xlm-roberta-large-ner-spanish'](https://huggingface.co/MMG/xlm-roberta-large-ner-spanish?text=Las+oficinas+de+MMG+est%C3%A1n+en+Las+Rozas.)"
   ]
  }
 ],
 "metadata": {
  "kernelspec": {
   "display_name": "ner_spanish-HXC9jEQ8",
   "language": "python",
   "name": "python3"
  },
  "language_info": {
   "codemirror_mode": {
    "name": "ipython",
    "version": 3
   },
   "file_extension": ".py",
   "mimetype": "text/x-python",
   "name": "python",
   "nbconvert_exporter": "python",
   "pygments_lexer": "ipython3",
   "version": "3.8.10 (default, Nov 14 2022, 12:59:47) \n[GCC 9.4.0]"
  },
  "orig_nbformat": 4,
  "vscode": {
   "interpreter": {
    "hash": "6f6717b5260f53d6465a448f9ac2415d005f645ecb7a91878fb16358486433d9"
   }
  }
 },
 "nbformat": 4,
 "nbformat_minor": 2
}
