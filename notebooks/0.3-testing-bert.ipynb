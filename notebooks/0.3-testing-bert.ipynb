{
 "cells": [
  {
   "cell_type": "code",
   "execution_count": 8,
   "metadata": {},
   "outputs": [],
   "source": [
    "from transformers import pipeline, AutoTokenizer, AutoModelForTokenClassification\n",
    "\n",
    "tokenizer = AutoTokenizer.from_pretrained(\"mrm8488/bert-spanish-cased-finetuned-ner\")\n",
    "\n",
    "model = AutoModelForTokenClassification.from_pretrained(\"mrm8488/bert-spanish-cased-finetuned-ner\")"
   ]
  },
  {
   "cell_type": "code",
   "execution_count": 35,
   "metadata": {},
   "outputs": [],
   "source": [
    "text = \"Agro Acción Alemana (Deutsche Welthungerhilfe), originaria de Alemania, inscrito el l 4/07/1999, bajo el Número Perpetuo 1377. Situación Legal: En incumplimiento, no reportaron estados financieros del período 2016-2021, Junta Directiva del país y Poder de Representante Legal desactualizados desde el año 2012.\""
   ]
  },
  {
   "cell_type": "code",
   "execution_count": 36,
   "metadata": {},
   "outputs": [
    {
     "data": {
      "text/plain": [
       "[{'entity': 'B-ORG',\n",
       "  'score': 0.9991346,\n",
       "  'index': 1,\n",
       "  'word': 'Agr',\n",
       "  'start': 0,\n",
       "  'end': 3},\n",
       " {'entity': 'I-ORG',\n",
       "  'score': 0.53313345,\n",
       "  'index': 2,\n",
       "  'word': '##o',\n",
       "  'start': 3,\n",
       "  'end': 4},\n",
       " {'entity': 'I-ORG',\n",
       "  'score': 0.9988537,\n",
       "  'index': 3,\n",
       "  'word': 'Acción',\n",
       "  'start': 5,\n",
       "  'end': 11},\n",
       " {'entity': 'I-ORG',\n",
       "  'score': 0.9992717,\n",
       "  'index': 4,\n",
       "  'word': 'Alemana',\n",
       "  'start': 12,\n",
       "  'end': 19},\n",
       " {'entity': 'B-ORG',\n",
       "  'score': 0.999624,\n",
       "  'index': 6,\n",
       "  'word': 'Deuts',\n",
       "  'start': 21,\n",
       "  'end': 26},\n",
       " {'entity': 'I-ORG',\n",
       "  'score': 0.64178765,\n",
       "  'index': 7,\n",
       "  'word': '##che',\n",
       "  'start': 26,\n",
       "  'end': 29},\n",
       " {'entity': 'I-ORG',\n",
       "  'score': 0.9990134,\n",
       "  'index': 8,\n",
       "  'word': 'W',\n",
       "  'start': 30,\n",
       "  'end': 31},\n",
       " {'entity': 'I-ORG',\n",
       "  'score': 0.9988951,\n",
       "  'index': 9,\n",
       "  'word': '##el',\n",
       "  'start': 31,\n",
       "  'end': 33},\n",
       " {'entity': 'I-ORG',\n",
       "  'score': 0.99917907,\n",
       "  'index': 10,\n",
       "  'word': '##th',\n",
       "  'start': 33,\n",
       "  'end': 35},\n",
       " {'entity': 'I-ORG',\n",
       "  'score': 0.99833435,\n",
       "  'index': 11,\n",
       "  'word': '##ung',\n",
       "  'start': 35,\n",
       "  'end': 38},\n",
       " {'entity': 'I-ORG',\n",
       "  'score': 0.9984825,\n",
       "  'index': 12,\n",
       "  'word': '##er',\n",
       "  'start': 38,\n",
       "  'end': 40},\n",
       " {'entity': 'I-ORG',\n",
       "  'score': 0.99672854,\n",
       "  'index': 13,\n",
       "  'word': '##hi',\n",
       "  'start': 40,\n",
       "  'end': 42},\n",
       " {'entity': 'I-ORG',\n",
       "  'score': 0.9702712,\n",
       "  'index': 14,\n",
       "  'word': '##l',\n",
       "  'start': 42,\n",
       "  'end': 43},\n",
       " {'entity': 'I-ORG',\n",
       "  'score': 0.9666577,\n",
       "  'index': 15,\n",
       "  'word': '##fe',\n",
       "  'start': 43,\n",
       "  'end': 45},\n",
       " {'entity': 'B-LOC',\n",
       "  'score': 0.99985206,\n",
       "  'index': 20,\n",
       "  'word': 'Alemania',\n",
       "  'start': 62,\n",
       "  'end': 70},\n",
       " {'entity': 'I-MISC',\n",
       "  'score': 0.7017269,\n",
       "  'index': 27,\n",
       "  'word': '07',\n",
       "  'start': 88,\n",
       "  'end': 90},\n",
       " {'entity': 'I-MISC',\n",
       "  'score': 0.7647957,\n",
       "  'index': 28,\n",
       "  'word': '/',\n",
       "  'start': 90,\n",
       "  'end': 91},\n",
       " {'entity': 'B-MISC',\n",
       "  'score': 0.9824751,\n",
       "  'index': 33,\n",
       "  'word': 'Número',\n",
       "  'start': 105,\n",
       "  'end': 111},\n",
       " {'entity': 'I-MISC',\n",
       "  'score': 0.9413223,\n",
       "  'index': 34,\n",
       "  'word': 'Per',\n",
       "  'start': 112,\n",
       "  'end': 115},\n",
       " {'entity': 'I-MISC',\n",
       "  'score': 0.9820223,\n",
       "  'index': 35,\n",
       "  'word': '##pe',\n",
       "  'start': 115,\n",
       "  'end': 117},\n",
       " {'entity': 'I-MISC',\n",
       "  'score': 0.9847564,\n",
       "  'index': 36,\n",
       "  'word': '##tu',\n",
       "  'start': 117,\n",
       "  'end': 119},\n",
       " {'entity': 'I-MISC',\n",
       "  'score': 0.9390455,\n",
       "  'index': 37,\n",
       "  'word': '##o',\n",
       "  'start': 119,\n",
       "  'end': 120},\n",
       " {'entity': 'I-MISC',\n",
       "  'score': 0.9100359,\n",
       "  'index': 38,\n",
       "  'word': '1377',\n",
       "  'start': 121,\n",
       "  'end': 125},\n",
       " {'entity': 'B-MISC',\n",
       "  'score': 0.9925184,\n",
       "  'index': 59,\n",
       "  'word': 'Junta',\n",
       "  'start': 220,\n",
       "  'end': 225},\n",
       " {'entity': 'I-MISC',\n",
       "  'score': 0.9741052,\n",
       "  'index': 60,\n",
       "  'word': 'Directiva',\n",
       "  'start': 226,\n",
       "  'end': 235},\n",
       " {'entity': 'B-MISC',\n",
       "  'score': 0.9944431,\n",
       "  'index': 64,\n",
       "  'word': 'Poder',\n",
       "  'start': 247,\n",
       "  'end': 252},\n",
       " {'entity': 'I-MISC',\n",
       "  'score': 0.995395,\n",
       "  'index': 65,\n",
       "  'word': 'de',\n",
       "  'start': 253,\n",
       "  'end': 255},\n",
       " {'entity': 'I-MISC',\n",
       "  'score': 0.9947708,\n",
       "  'index': 66,\n",
       "  'word': 'Representante',\n",
       "  'start': 256,\n",
       "  'end': 269},\n",
       " {'entity': 'I-MISC',\n",
       "  'score': 0.99277675,\n",
       "  'index': 67,\n",
       "  'word': 'Leg',\n",
       "  'start': 270,\n",
       "  'end': 273},\n",
       " {'entity': 'I-MISC',\n",
       "  'score': 0.9862634,\n",
       "  'index': 68,\n",
       "  'word': '##al',\n",
       "  'start': 273,\n",
       "  'end': 275}]"
      ]
     },
     "execution_count": 36,
     "metadata": {},
     "output_type": "execute_result"
    }
   ],
   "source": [
    "classifier = pipeline(\"ner\", model=model, tokenizer=tokenizer)\n",
    "answer = classifier(text)\n",
    "answer"
   ]
  },
  {
   "cell_type": "code",
   "execution_count": 37,
   "metadata": {},
   "outputs": [
    {
     "data": {
      "text/plain": [
       "['##o',\n",
       " 'Acción',\n",
       " 'Alemana',\n",
       " '##che',\n",
       " 'W',\n",
       " '##el',\n",
       " '##th',\n",
       " '##ung',\n",
       " '##er',\n",
       " '##hi',\n",
       " '##l',\n",
       " '##fe']"
      ]
     },
     "execution_count": 37,
     "metadata": {},
     "output_type": "execute_result"
    }
   ],
   "source": [
    "[token.get('word') for token in answer if token.get('entity') == 'I-ORG']"
   ]
  },
  {
   "cell_type": "code",
   "execution_count": 38,
   "metadata": {},
   "outputs": [
    {
     "data": {
      "text/plain": [
       "['Alemania']"
      ]
     },
     "execution_count": 38,
     "metadata": {},
     "output_type": "execute_result"
    }
   ],
   "source": [
    "[token.get('word') for token in answer if token.get('entity') == 'B-LOC']"
   ]
  },
  {
   "attachments": {},
   "cell_type": "markdown",
   "metadata": {},
   "source": [
    "[Documentation for 'bert-spanish-cased-finetuned-ner'](https://huggingface.co/mrm8488/bert-spanish-cased-finetuned-ner?text=Me+llamo+Wolfgang+y+vivo+en+Berlin)"
   ]
  }
 ],
 "metadata": {
  "kernelspec": {
   "display_name": "Python 3",
   "language": "python",
   "name": "python3"
  },
  "language_info": {
   "codemirror_mode": {
    "name": "ipython",
    "version": 3
   },
   "file_extension": ".py",
   "mimetype": "text/x-python",
   "name": "python",
   "nbconvert_exporter": "python",
   "pygments_lexer": "ipython3",
   "version": "3.8.10 (default, Nov 14 2022, 12:59:47) \n[GCC 9.4.0]"
  },
  "orig_nbformat": 4,
  "vscode": {
   "interpreter": {
    "hash": "916dbcbb3f70747c44a77c7bcd40155683ae19c65e1c03b4aa3499c5328201f1"
   }
  }
 },
 "nbformat": 4,
 "nbformat_minor": 2
}
