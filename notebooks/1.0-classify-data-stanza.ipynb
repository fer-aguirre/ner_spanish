{
 "cells": [
  {
   "attachments": {},
   "cell_type": "markdown",
   "metadata": {},
   "source": [
    "### Installation"
   ]
  },
  {
   "cell_type": "code",
   "execution_count": null,
   "metadata": {},
   "outputs": [],
   "source": [
    "!pip install stanza\n",
    "!pip install spacy\n",
    "!python -m spacy download es_core_news_md"
   ]
  },
  {
   "attachments": {},
   "cell_type": "markdown",
   "metadata": {},
   "source": [
    "### Import libraries"
   ]
  },
  {
   "cell_type": "code",
   "execution_count": 90,
   "metadata": {},
   "outputs": [],
   "source": [
    "# Import libraries\n",
    "import pandas as pd\n",
    "import numpy as np\n",
    "import spacy\n",
    "import stanza\n",
    "from tqdm import tqdm\n",
    "import es_core_news_md"
   ]
  },
  {
   "attachments": {},
   "cell_type": "markdown",
   "metadata": {},
   "source": [
    "### Load NER Models"
   ]
  },
  {
   "cell_type": "code",
   "execution_count": 91,
   "metadata": {},
   "outputs": [
    {
     "name": "stderr",
     "output_type": "stream",
     "text": [
      "2023-01-13 20:21:56 INFO: Checking for updates to resources.json in case models have been updated.  Note: this behavior can be turned off with download_method=None or download_method=DownloadMethod.REUSE_RESOURCES\n",
      "Downloading https://raw.githubusercontent.com/stanfordnlp/stanza-resources/main/resources_1.4.1.json: 193kB [00:00, 3.08MB/s]                    \n",
      "2023-01-13 20:21:57 WARNING: Language es package default expects mwt, which has been added\n",
      "2023-01-13 20:21:58 INFO: Loading these models for language: es (Spanish):\n",
      "=======================\n",
      "| Processor | Package |\n",
      "-----------------------\n",
      "| tokenize  | ancora  |\n",
      "| mwt       | ancora  |\n",
      "| ner       | conll02 |\n",
      "=======================\n",
      "\n",
      "2023-01-13 20:21:58 INFO: Use device: cpu\n",
      "2023-01-13 20:21:58 INFO: Loading: tokenize\n",
      "2023-01-13 20:21:58 INFO: Loading: mwt\n",
      "2023-01-13 20:21:58 INFO: Loading: ner\n",
      "2023-01-13 20:21:58 INFO: Done loading processors!\n"
     ]
    }
   ],
   "source": [
    "# Create an instance for stanza's Named-Entity Recognition model\n",
    "nlp_st = stanza.Pipeline(lang='es', processors='tokenize, ner')"
   ]
  },
  {
   "cell_type": "code",
   "execution_count": 92,
   "metadata": {},
   "outputs": [],
   "source": [
    "# Create an instance for spacy's Named-Entity Recognition model\n",
    "nlp_sp = es_core_news_md.load()"
   ]
  },
  {
   "attachments": {},
   "cell_type": "markdown",
   "metadata": {},
   "source": [
    "### Load data"
   ]
  },
  {
   "cell_type": "code",
   "execution_count": 93,
   "metadata": {},
   "outputs": [
    {
     "data": {
      "text/html": [
       "<div>\n",
       "<style scoped>\n",
       "    .dataframe tbody tr th:only-of-type {\n",
       "        vertical-align: middle;\n",
       "    }\n",
       "\n",
       "    .dataframe tbody tr th {\n",
       "        vertical-align: top;\n",
       "    }\n",
       "\n",
       "    .dataframe thead th {\n",
       "        text-align: right;\n",
       "    }\n",
       "</style>\n",
       "<table border=\"1\" class=\"dataframe\">\n",
       "  <thead>\n",
       "    <tr style=\"text-align: right;\">\n",
       "      <th></th>\n",
       "      <th>Fecha</th>\n",
       "      <th>tipo</th>\n",
       "      <th>corregido</th>\n",
       "    </tr>\n",
       "  </thead>\n",
       "  <tbody>\n",
       "    <tr>\n",
       "      <th>0</th>\n",
       "      <td>2022/05/24</td>\n",
       "      <td>otras nacionalidades</td>\n",
       "      <td>1. Fundación Terre Des Hommes Italia-Onlus, or...</td>\n",
       "    </tr>\n",
       "    <tr>\n",
       "      <th>1</th>\n",
       "      <td>2022/05/24</td>\n",
       "      <td>otras nacionalidades</td>\n",
       "      <td>2. Asociación Vivamos Mejor, originario de Cos...</td>\n",
       "    </tr>\n",
       "    <tr>\n",
       "      <th>2</th>\n",
       "      <td>2022/05/24</td>\n",
       "      <td>otras nacionalidades</td>\n",
       "      <td>3. Médico Internacional E.V., originario de Al...</td>\n",
       "    </tr>\n",
       "    <tr>\n",
       "      <th>3</th>\n",
       "      <td>2022/05/24</td>\n",
       "      <td>otras nacionalidades</td>\n",
       "      <td>4. Planting Hope, INC (Sembrando Esperanza, IN...</td>\n",
       "    </tr>\n",
       "    <tr>\n",
       "      <th>4</th>\n",
       "      <td>2022/05/24</td>\n",
       "      <td>otras nacionalidades</td>\n",
       "      <td>5. Proyecto Gettysburg-León, INC, originario d...</td>\n",
       "    </tr>\n",
       "  </tbody>\n",
       "</table>\n",
       "</div>"
      ],
      "text/plain": [
       "        Fecha                  tipo  \\\n",
       "0  2022/05/24  otras nacionalidades   \n",
       "1  2022/05/24  otras nacionalidades   \n",
       "2  2022/05/24  otras nacionalidades   \n",
       "3  2022/05/24  otras nacionalidades   \n",
       "4  2022/05/24  otras nacionalidades   \n",
       "\n",
       "                                           corregido  \n",
       "0  1. Fundación Terre Des Hommes Italia-Onlus, or...  \n",
       "1  2. Asociación Vivamos Mejor, originario de Cos...  \n",
       "2  3. Médico Internacional E.V., originario de Al...  \n",
       "3  4. Planting Hope, INC (Sembrando Esperanza, IN...  \n",
       "4  5. Proyecto Gettysburg-León, INC, originario d...  "
      ]
     },
     "execution_count": 93,
     "metadata": {},
     "output_type": "execute_result"
    }
   ],
   "source": [
    "# Read 'csv' file as dataframe\n",
    "df = pd.read_csv('../data/raw/nicaragua.csv')\n",
    "\n",
    "# Show dataframe\n",
    "df.head(5)"
   ]
  },
  {
   "attachments": {},
   "cell_type": "markdown",
   "metadata": {},
   "source": [
    "### Extract `location` entity from data"
   ]
  },
  {
   "cell_type": "code",
   "execution_count": 98,
   "metadata": {},
   "outputs": [],
   "source": [
    "# Select data and create a copy\n",
    "df_filtered = df.loc[(df['tipo'] == 'otras nacionalidades')].copy()\n",
    "\n",
    "# Convert column to list\n",
    "corregido_int = df_filtered['corregido'].tolist()"
   ]
  },
  {
   "cell_type": "code",
   "execution_count": 95,
   "metadata": {},
   "outputs": [
    {
     "name": "stderr",
     "output_type": "stream",
     "text": [
      "100%|██████████| 293/293 [05:24<00:00,  1.11s/it]\n"
     ]
    }
   ],
   "source": [
    "# Analyze NER from list and extract LOC type\n",
    "# This analysis can take a few minutes to process\n",
    "locs = []\n",
    "for i in tqdm(range(len(corregido_int))):\n",
    "    doc = nlp_st(corregido_int[i])\n",
    "    loc = [ent.text for sent in doc.sentences for ent in sent.ents if ent.type == \"LOC\"]\n",
    "    locs.append(loc)"
   ]
  },
  {
   "cell_type": "code",
   "execution_count": 99,
   "metadata": {},
   "outputs": [
    {
     "data": {
      "text/html": [
       "<div>\n",
       "<style scoped>\n",
       "    .dataframe tbody tr th:only-of-type {\n",
       "        vertical-align: middle;\n",
       "    }\n",
       "\n",
       "    .dataframe tbody tr th {\n",
       "        vertical-align: top;\n",
       "    }\n",
       "\n",
       "    .dataframe thead th {\n",
       "        text-align: right;\n",
       "    }\n",
       "</style>\n",
       "<table border=\"1\" class=\"dataframe\">\n",
       "  <thead>\n",
       "    <tr style=\"text-align: right;\">\n",
       "      <th></th>\n",
       "      <th>Fecha</th>\n",
       "      <th>tipo</th>\n",
       "      <th>corregido</th>\n",
       "      <th>loc</th>\n",
       "    </tr>\n",
       "  </thead>\n",
       "  <tbody>\n",
       "    <tr>\n",
       "      <th>0</th>\n",
       "      <td>2022/05/24</td>\n",
       "      <td>otras nacionalidades</td>\n",
       "      <td>1. Fundación Terre Des Hommes Italia-Onlus, or...</td>\n",
       "      <td>[De Italia]</td>\n",
       "    </tr>\n",
       "    <tr>\n",
       "      <th>1</th>\n",
       "      <td>2022/05/24</td>\n",
       "      <td>otras nacionalidades</td>\n",
       "      <td>2. Asociación Vivamos Mejor, originario de Cos...</td>\n",
       "      <td>[Costa Rica]</td>\n",
       "    </tr>\n",
       "    <tr>\n",
       "      <th>2</th>\n",
       "      <td>2022/05/24</td>\n",
       "      <td>otras nacionalidades</td>\n",
       "      <td>3. Médico Internacional E.V., originario de Al...</td>\n",
       "      <td>[Alemania]</td>\n",
       "    </tr>\n",
       "    <tr>\n",
       "      <th>3</th>\n",
       "      <td>2022/05/24</td>\n",
       "      <td>otras nacionalidades</td>\n",
       "      <td>4. Planting Hope, INC (Sembrando Esperanza, IN...</td>\n",
       "      <td>[]</td>\n",
       "    </tr>\n",
       "    <tr>\n",
       "      <th>4</th>\n",
       "      <td>2022/05/24</td>\n",
       "      <td>otras nacionalidades</td>\n",
       "      <td>5. Proyecto Gettysburg-León, INC, originario d...</td>\n",
       "      <td>[]</td>\n",
       "    </tr>\n",
       "  </tbody>\n",
       "</table>\n",
       "</div>"
      ],
      "text/plain": [
       "        Fecha                  tipo  \\\n",
       "0  2022/05/24  otras nacionalidades   \n",
       "1  2022/05/24  otras nacionalidades   \n",
       "2  2022/05/24  otras nacionalidades   \n",
       "3  2022/05/24  otras nacionalidades   \n",
       "4  2022/05/24  otras nacionalidades   \n",
       "\n",
       "                                           corregido           loc  \n",
       "0  1. Fundación Terre Des Hommes Italia-Onlus, or...   [De Italia]  \n",
       "1  2. Asociación Vivamos Mejor, originario de Cos...  [Costa Rica]  \n",
       "2  3. Médico Internacional E.V., originario de Al...    [Alemania]  \n",
       "3  4. Planting Hope, INC (Sembrando Esperanza, IN...            []  \n",
       "4  5. Proyecto Gettysburg-León, INC, originario d...            []  "
      ]
     },
     "execution_count": 99,
     "metadata": {},
     "output_type": "execute_result"
    }
   ],
   "source": [
    "# Assign list to a new column\n",
    "df_filtered['loc'] = locs\n",
    "\n",
    "# Show dataframe\n",
    "df_filtered.head(5)"
   ]
  },
  {
   "cell_type": "code",
   "execution_count": 100,
   "metadata": {},
   "outputs": [
    {
     "data": {
      "text/html": [
       "<div>\n",
       "<style scoped>\n",
       "    .dataframe tbody tr th:only-of-type {\n",
       "        vertical-align: middle;\n",
       "    }\n",
       "\n",
       "    .dataframe tbody tr th {\n",
       "        vertical-align: top;\n",
       "    }\n",
       "\n",
       "    .dataframe thead th {\n",
       "        text-align: right;\n",
       "    }\n",
       "</style>\n",
       "<table border=\"1\" class=\"dataframe\">\n",
       "  <thead>\n",
       "    <tr style=\"text-align: right;\">\n",
       "      <th></th>\n",
       "      <th>Fecha</th>\n",
       "      <th>tipo</th>\n",
       "      <th>corregido</th>\n",
       "      <th>loc</th>\n",
       "    </tr>\n",
       "  </thead>\n",
       "  <tbody>\n",
       "    <tr>\n",
       "      <th>0</th>\n",
       "      <td>2022/05/24</td>\n",
       "      <td>otras nacionalidades</td>\n",
       "      <td>1. Fundación Terre Des Hommes Italia-Onlus, or...</td>\n",
       "      <td>[De Italia]</td>\n",
       "    </tr>\n",
       "    <tr>\n",
       "      <th>1</th>\n",
       "      <td>2022/05/24</td>\n",
       "      <td>otras nacionalidades</td>\n",
       "      <td>2. Asociación Vivamos Mejor, originario de Cos...</td>\n",
       "      <td>[Costa Rica]</td>\n",
       "    </tr>\n",
       "    <tr>\n",
       "      <th>2</th>\n",
       "      <td>2022/05/24</td>\n",
       "      <td>otras nacionalidades</td>\n",
       "      <td>3. Médico Internacional E.V., originario de Al...</td>\n",
       "      <td>[Alemania]</td>\n",
       "    </tr>\n",
       "    <tr>\n",
       "      <th>3</th>\n",
       "      <td>2022/05/24</td>\n",
       "      <td>otras nacionalidades</td>\n",
       "      <td>4. Planting Hope, INC (Sembrando Esperanza, IN...</td>\n",
       "      <td>[]</td>\n",
       "    </tr>\n",
       "    <tr>\n",
       "      <th>4</th>\n",
       "      <td>2022/05/24</td>\n",
       "      <td>otras nacionalidades</td>\n",
       "      <td>5. Proyecto Gettysburg-León, INC, originario d...</td>\n",
       "      <td>[]</td>\n",
       "    </tr>\n",
       "  </tbody>\n",
       "</table>\n",
       "</div>"
      ],
      "text/plain": [
       "        Fecha                  tipo  \\\n",
       "0  2022/05/24  otras nacionalidades   \n",
       "1  2022/05/24  otras nacionalidades   \n",
       "2  2022/05/24  otras nacionalidades   \n",
       "3  2022/05/24  otras nacionalidades   \n",
       "4  2022/05/24  otras nacionalidades   \n",
       "\n",
       "                                           corregido           loc  \n",
       "0  1. Fundación Terre Des Hommes Italia-Onlus, or...   [De Italia]  \n",
       "1  2. Asociación Vivamos Mejor, originario de Cos...  [Costa Rica]  \n",
       "2  3. Médico Internacional E.V., originario de Al...    [Alemania]  \n",
       "3  4. Planting Hope, INC (Sembrando Esperanza, IN...            []  \n",
       "4  5. Proyecto Gettysburg-León, INC, originario d...            []  "
      ]
     },
     "execution_count": 100,
     "metadata": {},
     "output_type": "execute_result"
    }
   ],
   "source": [
    "# Join dataframes\n",
    "df_merged = df.merge(df_filtered, how='outer', on=['Fecha', 'tipo', 'corregido'])\n",
    "\n",
    "# Show dataframe\n",
    "df_merged.head(5)"
   ]
  },
  {
   "attachments": {},
   "cell_type": "markdown",
   "metadata": {},
   "source": [
    "### Extract `organization` entity from data with `stanza`"
   ]
  },
  {
   "cell_type": "code",
   "execution_count": 101,
   "metadata": {},
   "outputs": [
    {
     "name": "stderr",
     "output_type": "stream",
     "text": [
      "100%|██████████| 1430/1430 [17:09<00:00,  1.39it/s]\n"
     ]
    }
   ],
   "source": [
    "# Convert column to list\n",
    "text = df['corregido'].tolist()\n",
    "\n",
    "# Analyze NER from list and extract ORG type\n",
    "# This analysis can take a few minutes to process\n",
    "orgs = []\n",
    "for i in tqdm(range(len(text))):\n",
    "    doc = nlp_st(text[i])\n",
    "    org = [ent.text for sent in doc.sentences for ent in sent.ents if ent.type == \"ORG\"]\n",
    "    orgs.append(org)"
   ]
  },
  {
   "cell_type": "code",
   "execution_count": 104,
   "metadata": {},
   "outputs": [
    {
     "data": {
      "text/html": [
       "<div>\n",
       "<style scoped>\n",
       "    .dataframe tbody tr th:only-of-type {\n",
       "        vertical-align: middle;\n",
       "    }\n",
       "\n",
       "    .dataframe tbody tr th {\n",
       "        vertical-align: top;\n",
       "    }\n",
       "\n",
       "    .dataframe thead th {\n",
       "        text-align: right;\n",
       "    }\n",
       "</style>\n",
       "<table border=\"1\" class=\"dataframe\">\n",
       "  <thead>\n",
       "    <tr style=\"text-align: right;\">\n",
       "      <th></th>\n",
       "      <th>Fecha</th>\n",
       "      <th>tipo</th>\n",
       "      <th>corregido</th>\n",
       "      <th>loc</th>\n",
       "      <th>org_stanza</th>\n",
       "    </tr>\n",
       "  </thead>\n",
       "  <tbody>\n",
       "    <tr>\n",
       "      <th>0</th>\n",
       "      <td>2022/05/24</td>\n",
       "      <td>otras nacionalidades</td>\n",
       "      <td>1. Fundación Terre Des Hommes Italia-Onlus, or...</td>\n",
       "      <td>[De Italia]</td>\n",
       "      <td>[Fundación Terre Des Hommes Italia-Onlus]</td>\n",
       "    </tr>\n",
       "    <tr>\n",
       "      <th>1</th>\n",
       "      <td>2022/05/24</td>\n",
       "      <td>otras nacionalidades</td>\n",
       "      <td>2. Asociación Vivamos Mejor, originario de Cos...</td>\n",
       "      <td>[Costa Rica]</td>\n",
       "      <td>[Asociación Vivamos Mejor]</td>\n",
       "    </tr>\n",
       "    <tr>\n",
       "      <th>2</th>\n",
       "      <td>2022/05/24</td>\n",
       "      <td>otras nacionalidades</td>\n",
       "      <td>3. Médico Internacional E.V., originario de Al...</td>\n",
       "      <td>[Alemania]</td>\n",
       "      <td>[Médico Internacional E.V.]</td>\n",
       "    </tr>\n",
       "    <tr>\n",
       "      <th>3</th>\n",
       "      <td>2022/05/24</td>\n",
       "      <td>otras nacionalidades</td>\n",
       "      <td>4. Planting Hope, INC (Sembrando Esperanza, IN...</td>\n",
       "      <td>[]</td>\n",
       "      <td>[Planting Hope, INC, Sembrando Esperanza, INC,...</td>\n",
       "    </tr>\n",
       "    <tr>\n",
       "      <th>4</th>\n",
       "      <td>2022/05/24</td>\n",
       "      <td>otras nacionalidades</td>\n",
       "      <td>5. Proyecto Gettysburg-León, INC, originario d...</td>\n",
       "      <td>[]</td>\n",
       "      <td>[INC, Estados Unidos]</td>\n",
       "    </tr>\n",
       "  </tbody>\n",
       "</table>\n",
       "</div>"
      ],
      "text/plain": [
       "        Fecha                  tipo  \\\n",
       "0  2022/05/24  otras nacionalidades   \n",
       "1  2022/05/24  otras nacionalidades   \n",
       "2  2022/05/24  otras nacionalidades   \n",
       "3  2022/05/24  otras nacionalidades   \n",
       "4  2022/05/24  otras nacionalidades   \n",
       "\n",
       "                                           corregido           loc  \\\n",
       "0  1. Fundación Terre Des Hommes Italia-Onlus, or...   [De Italia]   \n",
       "1  2. Asociación Vivamos Mejor, originario de Cos...  [Costa Rica]   \n",
       "2  3. Médico Internacional E.V., originario de Al...    [Alemania]   \n",
       "3  4. Planting Hope, INC (Sembrando Esperanza, IN...            []   \n",
       "4  5. Proyecto Gettysburg-León, INC, originario d...            []   \n",
       "\n",
       "                                          org_stanza  \n",
       "0          [Fundación Terre Des Hommes Italia-Onlus]  \n",
       "1                         [Asociación Vivamos Mejor]  \n",
       "2                        [Médico Internacional E.V.]  \n",
       "3  [Planting Hope, INC, Sembrando Esperanza, INC,...  \n",
       "4                              [INC, Estados Unidos]  "
      ]
     },
     "execution_count": 104,
     "metadata": {},
     "output_type": "execute_result"
    }
   ],
   "source": [
    "# Create a new column from list\n",
    "df_merged['org_stanza'] = pd.Series(orgs)\n",
    "\n",
    "# Replace empty lists with NaN values\n",
    "df_merged.org_stanza = df_merged.org_stanza.apply(lambda x: np.nan if len(x)==0 else x)\n",
    "\n",
    "# Show dataframe\n",
    "df_merged.head(5)"
   ]
  },
  {
   "attachments": {},
   "cell_type": "markdown",
   "metadata": {},
   "source": [
    "### Extract `organization` entity from data with `spacy`"
   ]
  },
  {
   "cell_type": "code",
   "execution_count": 105,
   "metadata": {},
   "outputs": [
    {
     "name": "stderr",
     "output_type": "stream",
     "text": [
      "100%|██████████| 1430/1430 [00:22<00:00, 63.32it/s]\n"
     ]
    }
   ],
   "source": [
    "# Analyze NER from list and extract ORG type\n",
    "# This analysis can take a few minutes to process\n",
    "orgs = []\n",
    "for i in tqdm(range(len(text))):\n",
    "    doc = nlp_sp(text[i])\n",
    "    org = [named_entity for named_entity in doc.ents if named_entity.label_ == \"ORG\"]\n",
    "    orgs.append(org)"
   ]
  },
  {
   "cell_type": "code",
   "execution_count": 107,
   "metadata": {},
   "outputs": [
    {
     "data": {
      "text/html": [
       "<div>\n",
       "<style scoped>\n",
       "    .dataframe tbody tr th:only-of-type {\n",
       "        vertical-align: middle;\n",
       "    }\n",
       "\n",
       "    .dataframe tbody tr th {\n",
       "        vertical-align: top;\n",
       "    }\n",
       "\n",
       "    .dataframe thead th {\n",
       "        text-align: right;\n",
       "    }\n",
       "</style>\n",
       "<table border=\"1\" class=\"dataframe\">\n",
       "  <thead>\n",
       "    <tr style=\"text-align: right;\">\n",
       "      <th></th>\n",
       "      <th>Fecha</th>\n",
       "      <th>tipo</th>\n",
       "      <th>corregido</th>\n",
       "      <th>loc</th>\n",
       "      <th>org_stanza</th>\n",
       "      <th>org_spacy</th>\n",
       "    </tr>\n",
       "  </thead>\n",
       "  <tbody>\n",
       "    <tr>\n",
       "      <th>0</th>\n",
       "      <td>2022/05/24</td>\n",
       "      <td>otras nacionalidades</td>\n",
       "      <td>1. Fundación Terre Des Hommes Italia-Onlus, or...</td>\n",
       "      <td>[De Italia]</td>\n",
       "      <td>[Fundación Terre Des Hommes Italia-Onlus]</td>\n",
       "      <td>[(Fundación, Terre, Des, Hommes, Italia-Onlus)]</td>\n",
       "    </tr>\n",
       "    <tr>\n",
       "      <th>1</th>\n",
       "      <td>2022/05/24</td>\n",
       "      <td>otras nacionalidades</td>\n",
       "      <td>2. Asociación Vivamos Mejor, originario de Cos...</td>\n",
       "      <td>[Costa Rica]</td>\n",
       "      <td>[Asociación Vivamos Mejor]</td>\n",
       "      <td>NaN</td>\n",
       "    </tr>\n",
       "    <tr>\n",
       "      <th>2</th>\n",
       "      <td>2022/05/24</td>\n",
       "      <td>otras nacionalidades</td>\n",
       "      <td>3. Médico Internacional E.V., originario de Al...</td>\n",
       "      <td>[Alemania]</td>\n",
       "      <td>[Médico Internacional E.V.]</td>\n",
       "      <td>[(Médico, Internacional)]</td>\n",
       "    </tr>\n",
       "    <tr>\n",
       "      <th>3</th>\n",
       "      <td>2022/05/24</td>\n",
       "      <td>otras nacionalidades</td>\n",
       "      <td>4. Planting Hope, INC (Sembrando Esperanza, IN...</td>\n",
       "      <td>[]</td>\n",
       "      <td>[Planting Hope, INC, Sembrando Esperanza, INC,...</td>\n",
       "      <td>[(Sembrando, Esperanza, ,, INC)]</td>\n",
       "    </tr>\n",
       "    <tr>\n",
       "      <th>4</th>\n",
       "      <td>2022/05/24</td>\n",
       "      <td>otras nacionalidades</td>\n",
       "      <td>5. Proyecto Gettysburg-León, INC, originario d...</td>\n",
       "      <td>[]</td>\n",
       "      <td>[INC, Estados Unidos]</td>\n",
       "      <td>NaN</td>\n",
       "    </tr>\n",
       "  </tbody>\n",
       "</table>\n",
       "</div>"
      ],
      "text/plain": [
       "        Fecha                  tipo  \\\n",
       "0  2022/05/24  otras nacionalidades   \n",
       "1  2022/05/24  otras nacionalidades   \n",
       "2  2022/05/24  otras nacionalidades   \n",
       "3  2022/05/24  otras nacionalidades   \n",
       "4  2022/05/24  otras nacionalidades   \n",
       "\n",
       "                                           corregido           loc  \\\n",
       "0  1. Fundación Terre Des Hommes Italia-Onlus, or...   [De Italia]   \n",
       "1  2. Asociación Vivamos Mejor, originario de Cos...  [Costa Rica]   \n",
       "2  3. Médico Internacional E.V., originario de Al...    [Alemania]   \n",
       "3  4. Planting Hope, INC (Sembrando Esperanza, IN...            []   \n",
       "4  5. Proyecto Gettysburg-León, INC, originario d...            []   \n",
       "\n",
       "                                          org_stanza  \\\n",
       "0          [Fundación Terre Des Hommes Italia-Onlus]   \n",
       "1                         [Asociación Vivamos Mejor]   \n",
       "2                        [Médico Internacional E.V.]   \n",
       "3  [Planting Hope, INC, Sembrando Esperanza, INC,...   \n",
       "4                              [INC, Estados Unidos]   \n",
       "\n",
       "                                         org_spacy  \n",
       "0  [(Fundación, Terre, Des, Hommes, Italia-Onlus)]  \n",
       "1                                              NaN  \n",
       "2                        [(Médico, Internacional)]  \n",
       "3                 [(Sembrando, Esperanza, ,, INC)]  \n",
       "4                                              NaN  "
      ]
     },
     "execution_count": 107,
     "metadata": {},
     "output_type": "execute_result"
    }
   ],
   "source": [
    "# Create a new column from list\n",
    "df_merged['org_spacy'] = pd.Series(orgs)\n",
    "\n",
    "# Replace empty lists with NaN values\n",
    "df_merged.org_spacy = df_merged.org_spacy.apply(lambda x: np.nan if len(x)==0 else x)\n",
    "\n",
    "# Show dataframe\n",
    "df_merged.head(5)"
   ]
  },
  {
   "cell_type": "code",
   "execution_count": 108,
   "metadata": {},
   "outputs": [],
   "source": [
    "# Save dataframe as 'csv' file\n",
    "df_merged.to_csv('../data/processed/nicaragua_processsed.csv', index=False)"
   ]
  }
 ],
 "metadata": {
  "kernelspec": {
   "display_name": "ner_spanish-HXC9jEQ8",
   "language": "python",
   "name": "python3"
  },
  "language_info": {
   "codemirror_mode": {
    "name": "ipython",
    "version": 3
   },
   "file_extension": ".py",
   "mimetype": "text/x-python",
   "name": "python",
   "nbconvert_exporter": "python",
   "pygments_lexer": "ipython3",
   "version": "3.8.10"
  },
  "orig_nbformat": 4,
  "vscode": {
   "interpreter": {
    "hash": "6f6717b5260f53d6465a448f9ac2415d005f645ecb7a91878fb16358486433d9"
   }
  }
 },
 "nbformat": 4,
 "nbformat_minor": 2
}
